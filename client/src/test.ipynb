{
 "cells": [
  {
   "cell_type": "code",
   "execution_count": 1,
   "metadata": {},
   "outputs": [],
   "source": [
    "import numpy as np\n",
    "import matplotlib.pyplot as plt\n",
    "import socket\n",
    "import struct\n",
    "\n",
    "RP_ADDRESS = \"RP-F0A360.LOCAL\"\n",
    "PORT = 5000"
   ]
  },
  {
   "cell_type": "code",
   "execution_count": 48,
   "metadata": {},
   "outputs": [],
   "source": [
    "def send_msg(msg, s):\n",
    "    msg = struct.pack('>I', len(msg)) + msg\n",
    "\n",
    "    s.sendall(msg)\n",
    "\n",
    "    msg = s.recv(1024)\n",
    "    print('Received: ' + msg.decode())\n",
    "\n",
    "def transform_waveform(waveform):\n",
    "    waveform *= 32767\n",
    "    waveform = np.round(waveform)\n",
    "\n",
    "    waveform = waveform.astype(np.int16)\n",
    "\n",
    "    return waveform.astype('>i2').tobytes()"
   ]
  },
  {
   "cell_type": "code",
   "execution_count": 49,
   "metadata": {},
   "outputs": [],
   "source": [
    "tcp_socket = socket.create_connection((RP_ADDRESS, PORT))"
   ]
  },
  {
   "cell_type": "code",
   "execution_count": 4,
   "metadata": {},
   "outputs": [
    {
     "name": "stdout",
     "output_type": "stream",
     "text": [
      "set_waveform 1 1000\n"
     ]
    }
   ],
   "source": [
    "len = 1000\n",
    "\n",
    "msg = \"set_waveform 1 {}\".format(len)\n",
    "msg = str.encode(msg)\n",
    "send_msg(msg, tcp_socket)\n",
    "\n",
    "x = np.linspace(0, 1, len, dtype=np.float16)\n",
    "waveform = np.sin(2*np.pi*x)\n",
    "msg = transform_waveform(waveform)\n",
    "send_msg(msg, tcp_socket)"
   ]
  },
  {
   "cell_type": "code",
   "execution_count": 41,
   "metadata": {},
   "outputs": [
    {
     "name": "stdout",
     "output_type": "stream",
     "text": [
      "Received: EXIT\n",
      "\n"
     ]
    }
   ],
   "source": [
    "msg = \"exit\"\n",
    "msg = str.encode(msg)\n",
    "send_msg(msg, tcp_socket)"
   ]
  }
 ],
 "metadata": {
  "kernelspec": {
   "display_name": "RedPitaya_SiPM",
   "language": "python",
   "name": "python3"
  },
  "language_info": {
   "codemirror_mode": {
    "name": "ipython",
    "version": 3
   },
   "file_extension": ".py",
   "mimetype": "text/x-python",
   "name": "python",
   "nbconvert_exporter": "python",
   "pygments_lexer": "ipython3",
   "version": "3.12.9"
  }
 },
 "nbformat": 4,
 "nbformat_minor": 2
}
