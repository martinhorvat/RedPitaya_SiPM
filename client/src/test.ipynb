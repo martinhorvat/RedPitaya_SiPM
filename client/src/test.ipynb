{
 "cells": [
  {
   "cell_type": "code",
   "execution_count": 50,
   "metadata": {},
   "outputs": [],
   "source": [
    "import numpy as np\n",
    "import matplotlib.pyplot as plt\n",
    "import socket\n",
    "import struct\n",
    "\n",
    "RP_ADDRESS = \"RP-F0A360.LOCAL\"\n",
    "PORT = 5000"
   ]
  },
  {
   "cell_type": "code",
   "execution_count": 51,
   "metadata": {},
   "outputs": [],
   "source": [
    "def send_msg(msg, s):\n",
    "    msg = struct.pack('>I', len(msg)) + msg\n",
    "\n",
    "    print(\"Sending message!\")\n",
    "    s.sendall(msg)\n",
    "\n",
    "    msg = s.recv(1024)\n",
    "    print('Received: ' + msg.decode())\n",
    "\n",
    "def transform_waveform(waveform):\n",
    "    waveform *= 32767\n",
    "    waveform = np.round(waveform)\n",
    "\n",
    "    waveform = waveform.astype(np.int16)\n",
    "    print(waveform)\n",
    "    waveform = waveform.astype('>i2').tobytes()\n",
    "\n",
    "    return waveform"
   ]
  },
  {
   "cell_type": "code",
   "execution_count": 52,
   "metadata": {},
   "outputs": [],
   "source": [
    "tcp_socket = socket.create_connection((RP_ADDRESS, PORT))"
   ]
  },
  {
   "cell_type": "code",
   "execution_count": 53,
   "metadata": {},
   "outputs": [
    {
     "name": "stdout",
     "output_type": "stream",
     "text": [
      "Sending message!\n",
      "Received: OK\n",
      "\n",
      "[     0  21056  32272  28384  11256 -11192 -28352 -32272 -21136    -63]\n",
      "Sending message!\n",
      "Received: received waveform\n",
      "\n",
      "Sending message!\n"
     ]
    },
    {
     "ename": "KeyboardInterrupt",
     "evalue": "",
     "output_type": "error",
     "traceback": [
      "\u001b[0;31m---------------------------------------------------------------------------\u001b[0m",
      "\u001b[0;31mKeyboardInterrupt\u001b[0m                         Traceback (most recent call last)",
      "Cell \u001b[0;32mIn[53], line 14\u001b[0m\n\u001b[1;32m     12\u001b[0m msg \u001b[38;5;241m=\u001b[39m \u001b[38;5;124m\"\u001b[39m\u001b[38;5;124mset_gen_decimation 1 10000\u001b[39m\u001b[38;5;124m\"\u001b[39m\n\u001b[1;32m     13\u001b[0m msg \u001b[38;5;241m=\u001b[39m \u001b[38;5;28mstr\u001b[39m\u001b[38;5;241m.\u001b[39mencode(msg)\n\u001b[0;32m---> 14\u001b[0m \u001b[43msend_msg\u001b[49m\u001b[43m(\u001b[49m\u001b[43mmsg\u001b[49m\u001b[43m,\u001b[49m\u001b[43m \u001b[49m\u001b[43mtcp_socket\u001b[49m\u001b[43m)\u001b[49m\n\u001b[1;32m     16\u001b[0m msg \u001b[38;5;241m=\u001b[39m \u001b[38;5;124m\"\u001b[39m\u001b[38;5;124mstart_gen\u001b[39m\u001b[38;5;124m\"\u001b[39m\n\u001b[1;32m     17\u001b[0m msg \u001b[38;5;241m=\u001b[39m \u001b[38;5;28mstr\u001b[39m\u001b[38;5;241m.\u001b[39mencode(msg)\n",
      "Cell \u001b[0;32mIn[51], line 7\u001b[0m, in \u001b[0;36msend_msg\u001b[0;34m(msg, s)\u001b[0m\n\u001b[1;32m      4\u001b[0m \u001b[38;5;28mprint\u001b[39m(\u001b[38;5;124m\"\u001b[39m\u001b[38;5;124mSending message!\u001b[39m\u001b[38;5;124m\"\u001b[39m)\n\u001b[1;32m      5\u001b[0m s\u001b[38;5;241m.\u001b[39msendall(msg)\n\u001b[0;32m----> 7\u001b[0m msg \u001b[38;5;241m=\u001b[39m \u001b[43ms\u001b[49m\u001b[38;5;241;43m.\u001b[39;49m\u001b[43mrecv\u001b[49m\u001b[43m(\u001b[49m\u001b[38;5;241;43m1024\u001b[39;49m\u001b[43m)\u001b[49m\n\u001b[1;32m      8\u001b[0m \u001b[38;5;28mprint\u001b[39m(\u001b[38;5;124m'\u001b[39m\u001b[38;5;124mReceived: \u001b[39m\u001b[38;5;124m'\u001b[39m \u001b[38;5;241m+\u001b[39m msg\u001b[38;5;241m.\u001b[39mdecode())\n",
      "\u001b[0;31mKeyboardInterrupt\u001b[0m: "
     ]
    }
   ],
   "source": [
    "waveform_len = 10\n",
    "\n",
    "msg = \"set_waveform 1 {}\".format(waveform_len)\n",
    "msg = str.encode(msg)\n",
    "send_msg(msg, tcp_socket)\n",
    "\n",
    "x = np.linspace(0, 1, waveform_len, dtype=np.float16)\n",
    "waveform = np.sin(2*np.pi*x)\n",
    "msg = transform_waveform(waveform)\n",
    "send_msg(msg, tcp_socket)\n",
    "\n",
    "msg = \"set_gen_decimation 1 10000\"\n",
    "msg = str.encode(msg)\n",
    "send_msg(msg, tcp_socket)\n",
    "\n",
    "msg = \"start_gen\"\n",
    "msg = str.encode(msg)\n",
    "send_msg(msg, tcp_socket)"
   ]
  },
  {
   "cell_type": "code",
   "execution_count": 49,
   "metadata": {},
   "outputs": [
    {
     "name": "stdout",
     "output_type": "stream",
     "text": [
      "Sending message!\n",
      "Received: OK\n",
      "OK\n",
      "\n"
     ]
    }
   ],
   "source": [
    "msg = \"exit\"\n",
    "msg = str.encode(msg)\n",
    "send_msg(msg, tcp_socket)"
   ]
  }
 ],
 "metadata": {
  "kernelspec": {
   "display_name": "RedPitaya_SiPM",
   "language": "python",
   "name": "python3"
  },
  "language_info": {
   "codemirror_mode": {
    "name": "ipython",
    "version": 3
   },
   "file_extension": ".py",
   "mimetype": "text/x-python",
   "name": "python",
   "nbconvert_exporter": "python",
   "pygments_lexer": "ipython3",
   "version": "3.12.9"
  }
 },
 "nbformat": 4,
 "nbformat_minor": 2
}
